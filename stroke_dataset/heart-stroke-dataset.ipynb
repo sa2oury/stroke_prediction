{
 "cells": [
  {
   "cell_type": "code",
   "execution_count": 12,
   "id": "1484b9cd",
   "metadata": {
    "execution": {
     "iopub.execute_input": "2025-09-07T18:39:20.306699Z",
     "iopub.status.busy": "2025-09-07T18:39:20.306197Z",
     "iopub.status.idle": "2025-09-07T18:39:22.914215Z",
     "shell.execute_reply": "2025-09-07T18:39:22.913063Z"
    },
    "papermill": {
     "duration": 2.614714,
     "end_time": "2025-09-07T18:39:22.916181",
     "exception": false,
     "start_time": "2025-09-07T18:39:20.301467",
     "status": "completed"
    },
    "tags": []
   },
   "outputs": [],
   "source": [
    "import pandas as pd\n",
    "import numpy as np\n",
    "from sklearn.preprocessing import OneHotEncoder, StandardScaler\n",
    "from sklearn.model_selection import train_test_split\n",
    "from sklearn.linear_model import LogisticRegression\n",
    "from sklearn.ensemble import RandomForestClassifier, AdaBoostClassifier\n",
    "from sklearn.tree import DecisionTreeClassifier\n",
    "from sklearn.ensemble import GradientBoostingClassifier\n",
    "import xgboost as xgb\n",
    "from sklearn.metrics import accuracy_score, classification_report, confusion_matrix,ConfusionMatrixDisplay\n",
    "import matplotlib.pyplot as plt\n"
   ]
  },
  {
   "cell_type": "code",
   "execution_count": 13,
   "id": "1696e1d3",
   "metadata": {
    "execution": {
     "iopub.execute_input": "2025-09-07T18:39:22.925346Z",
     "iopub.status.busy": "2025-09-07T18:39:22.924815Z",
     "iopub.status.idle": "2025-09-07T18:39:22.992884Z",
     "shell.execute_reply": "2025-09-07T18:39:22.991820Z"
    },
    "papermill": {
     "duration": 0.074507,
     "end_time": "2025-09-07T18:39:22.994528",
     "exception": false,
     "start_time": "2025-09-07T18:39:22.920021",
     "status": "completed"
    },
    "tags": []
   },
   "outputs": [
    {
     "data": {
      "text/html": [
       "<div>\n",
       "<style scoped>\n",
       "    .dataframe tbody tr th:only-of-type {\n",
       "        vertical-align: middle;\n",
       "    }\n",
       "\n",
       "    .dataframe tbody tr th {\n",
       "        vertical-align: top;\n",
       "    }\n",
       "\n",
       "    .dataframe thead th {\n",
       "        text-align: right;\n",
       "    }\n",
       "</style>\n",
       "<table border=\"1\" class=\"dataframe\">\n",
       "  <thead>\n",
       "    <tr style=\"text-align: right;\">\n",
       "      <th></th>\n",
       "      <th>id</th>\n",
       "      <th>gender</th>\n",
       "      <th>age</th>\n",
       "      <th>hypertension</th>\n",
       "      <th>heart_disease</th>\n",
       "      <th>ever_married</th>\n",
       "      <th>work_type</th>\n",
       "      <th>Residence_type</th>\n",
       "      <th>avg_glucose_level</th>\n",
       "      <th>bmi</th>\n",
       "      <th>smoking_status</th>\n",
       "      <th>stroke</th>\n",
       "    </tr>\n",
       "  </thead>\n",
       "  <tbody>\n",
       "    <tr>\n",
       "      <th>0</th>\n",
       "      <td>9046</td>\n",
       "      <td>Male</td>\n",
       "      <td>67.0</td>\n",
       "      <td>0</td>\n",
       "      <td>1</td>\n",
       "      <td>Yes</td>\n",
       "      <td>Private</td>\n",
       "      <td>Urban</td>\n",
       "      <td>228.69</td>\n",
       "      <td>36.6</td>\n",
       "      <td>formerly smoked</td>\n",
       "      <td>1</td>\n",
       "    </tr>\n",
       "    <tr>\n",
       "      <th>1</th>\n",
       "      <td>51676</td>\n",
       "      <td>Female</td>\n",
       "      <td>61.0</td>\n",
       "      <td>0</td>\n",
       "      <td>0</td>\n",
       "      <td>Yes</td>\n",
       "      <td>Self-employed</td>\n",
       "      <td>Rural</td>\n",
       "      <td>202.21</td>\n",
       "      <td>NaN</td>\n",
       "      <td>never smoked</td>\n",
       "      <td>1</td>\n",
       "    </tr>\n",
       "    <tr>\n",
       "      <th>2</th>\n",
       "      <td>31112</td>\n",
       "      <td>Male</td>\n",
       "      <td>80.0</td>\n",
       "      <td>0</td>\n",
       "      <td>1</td>\n",
       "      <td>Yes</td>\n",
       "      <td>Private</td>\n",
       "      <td>Rural</td>\n",
       "      <td>105.92</td>\n",
       "      <td>32.5</td>\n",
       "      <td>never smoked</td>\n",
       "      <td>1</td>\n",
       "    </tr>\n",
       "    <tr>\n",
       "      <th>3</th>\n",
       "      <td>60182</td>\n",
       "      <td>Female</td>\n",
       "      <td>49.0</td>\n",
       "      <td>0</td>\n",
       "      <td>0</td>\n",
       "      <td>Yes</td>\n",
       "      <td>Private</td>\n",
       "      <td>Urban</td>\n",
       "      <td>171.23</td>\n",
       "      <td>34.4</td>\n",
       "      <td>smokes</td>\n",
       "      <td>1</td>\n",
       "    </tr>\n",
       "    <tr>\n",
       "      <th>4</th>\n",
       "      <td>1665</td>\n",
       "      <td>Female</td>\n",
       "      <td>79.0</td>\n",
       "      <td>1</td>\n",
       "      <td>0</td>\n",
       "      <td>Yes</td>\n",
       "      <td>Self-employed</td>\n",
       "      <td>Rural</td>\n",
       "      <td>174.12</td>\n",
       "      <td>24.0</td>\n",
       "      <td>never smoked</td>\n",
       "      <td>1</td>\n",
       "    </tr>\n",
       "  </tbody>\n",
       "</table>\n",
       "</div>"
      ],
      "text/plain": [
       "      id  gender   age  hypertension  heart_disease ever_married  \\\n",
       "0   9046    Male  67.0             0              1          Yes   \n",
       "1  51676  Female  61.0             0              0          Yes   \n",
       "2  31112    Male  80.0             0              1          Yes   \n",
       "3  60182  Female  49.0             0              0          Yes   \n",
       "4   1665  Female  79.0             1              0          Yes   \n",
       "\n",
       "       work_type Residence_type  avg_glucose_level   bmi   smoking_status  \\\n",
       "0        Private          Urban             228.69  36.6  formerly smoked   \n",
       "1  Self-employed          Rural             202.21   NaN     never smoked   \n",
       "2        Private          Rural             105.92  32.5     never smoked   \n",
       "3        Private          Urban             171.23  34.4           smokes   \n",
       "4  Self-employed          Rural             174.12  24.0     never smoked   \n",
       "\n",
       "   stroke  \n",
       "0       1  \n",
       "1       1  \n",
       "2       1  \n",
       "3       1  \n",
       "4       1  "
      ]
     },
     "execution_count": 13,
     "metadata": {},
     "output_type": "execute_result"
    }
   ],
   "source": [
    "df = pd.read_csv(r\"C:\\Users\\abdal\\OneDrive\\Desktop\\heart_stroke\\healthcare-dataset-stroke-data.csv\")\n",
    "df.head()"
   ]
  },
  {
   "cell_type": "code",
   "execution_count": 14,
   "id": "46ae7e37",
   "metadata": {
    "execution": {
     "iopub.execute_input": "2025-09-07T18:39:23.004074Z",
     "iopub.status.busy": "2025-09-07T18:39:23.003681Z",
     "iopub.status.idle": "2025-09-07T18:39:23.019336Z",
     "shell.execute_reply": "2025-09-07T18:39:23.018343Z"
    },
    "papermill": {
     "duration": 0.022416,
     "end_time": "2025-09-07T18:39:23.020866",
     "exception": false,
     "start_time": "2025-09-07T18:39:22.998450",
     "status": "completed"
    },
    "tags": []
   },
   "outputs": [],
   "source": [
    "df = df.drop(\"id\", axis=1)"
   ]
  },
  {
   "cell_type": "code",
   "execution_count": 15,
   "id": "a2a22aaf",
   "metadata": {
    "execution": {
     "iopub.execute_input": "2025-09-07T18:39:23.029938Z",
     "iopub.status.busy": "2025-09-07T18:39:23.029590Z",
     "iopub.status.idle": "2025-09-07T18:39:23.052361Z",
     "shell.execute_reply": "2025-09-07T18:39:23.051175Z"
    },
    "papermill": {
     "duration": 0.029019,
     "end_time": "2025-09-07T18:39:23.053919",
     "exception": false,
     "start_time": "2025-09-07T18:39:23.024900",
     "status": "completed"
    },
    "tags": []
   },
   "outputs": [
    {
     "name": "stdout",
     "output_type": "stream",
     "text": [
      "<class 'pandas.core.frame.DataFrame'>\n",
      "RangeIndex: 5110 entries, 0 to 5109\n",
      "Data columns (total 11 columns):\n",
      " #   Column             Non-Null Count  Dtype  \n",
      "---  ------             --------------  -----  \n",
      " 0   gender             5110 non-null   object \n",
      " 1   age                5110 non-null   float64\n",
      " 2   hypertension       5110 non-null   int64  \n",
      " 3   heart_disease      5110 non-null   int64  \n",
      " 4   ever_married       5110 non-null   object \n",
      " 5   work_type          5110 non-null   object \n",
      " 6   Residence_type     5110 non-null   object \n",
      " 7   avg_glucose_level  5110 non-null   float64\n",
      " 8   bmi                4909 non-null   float64\n",
      " 9   smoking_status     5110 non-null   object \n",
      " 10  stroke             5110 non-null   int64  \n",
      "dtypes: float64(3), int64(3), object(5)\n",
      "memory usage: 439.3+ KB\n"
     ]
    }
   ],
   "source": [
    "df.info()"
   ]
  },
  {
   "cell_type": "code",
   "execution_count": 16,
   "id": "3e905530",
   "metadata": {
    "execution": {
     "iopub.execute_input": "2025-09-07T18:39:23.063223Z",
     "iopub.status.busy": "2025-09-07T18:39:23.062858Z",
     "iopub.status.idle": "2025-09-07T18:39:23.079912Z",
     "shell.execute_reply": "2025-09-07T18:39:23.078649Z"
    },
    "papermill": {
     "duration": 0.023714,
     "end_time": "2025-09-07T18:39:23.081634",
     "exception": false,
     "start_time": "2025-09-07T18:39:23.057920",
     "status": "completed"
    },
    "tags": []
   },
   "outputs": [
    {
     "data": {
      "text/html": [
       "<div>\n",
       "<style scoped>\n",
       "    .dataframe tbody tr th:only-of-type {\n",
       "        vertical-align: middle;\n",
       "    }\n",
       "\n",
       "    .dataframe tbody tr th {\n",
       "        vertical-align: top;\n",
       "    }\n",
       "\n",
       "    .dataframe thead th {\n",
       "        text-align: right;\n",
       "    }\n",
       "</style>\n",
       "<table border=\"1\" class=\"dataframe\">\n",
       "  <thead>\n",
       "    <tr style=\"text-align: right;\">\n",
       "      <th></th>\n",
       "      <th>gender</th>\n",
       "      <th>age</th>\n",
       "      <th>hypertension</th>\n",
       "      <th>heart_disease</th>\n",
       "      <th>ever_married</th>\n",
       "      <th>work_type</th>\n",
       "      <th>Residence_type</th>\n",
       "      <th>avg_glucose_level</th>\n",
       "      <th>bmi</th>\n",
       "      <th>smoking_status</th>\n",
       "      <th>stroke</th>\n",
       "    </tr>\n",
       "  </thead>\n",
       "  <tbody>\n",
       "    <tr>\n",
       "      <th>0</th>\n",
       "      <td>Male</td>\n",
       "      <td>67.0</td>\n",
       "      <td>0</td>\n",
       "      <td>1</td>\n",
       "      <td>Yes</td>\n",
       "      <td>Private</td>\n",
       "      <td>Urban</td>\n",
       "      <td>228.69</td>\n",
       "      <td>36.6</td>\n",
       "      <td>formerly smoked</td>\n",
       "      <td>1</td>\n",
       "    </tr>\n",
       "    <tr>\n",
       "      <th>1</th>\n",
       "      <td>Female</td>\n",
       "      <td>61.0</td>\n",
       "      <td>0</td>\n",
       "      <td>0</td>\n",
       "      <td>Yes</td>\n",
       "      <td>Self-employed</td>\n",
       "      <td>Rural</td>\n",
       "      <td>202.21</td>\n",
       "      <td>NaN</td>\n",
       "      <td>never smoked</td>\n",
       "      <td>1</td>\n",
       "    </tr>\n",
       "    <tr>\n",
       "      <th>2</th>\n",
       "      <td>Male</td>\n",
       "      <td>80.0</td>\n",
       "      <td>0</td>\n",
       "      <td>1</td>\n",
       "      <td>Yes</td>\n",
       "      <td>Private</td>\n",
       "      <td>Rural</td>\n",
       "      <td>105.92</td>\n",
       "      <td>32.5</td>\n",
       "      <td>never smoked</td>\n",
       "      <td>1</td>\n",
       "    </tr>\n",
       "    <tr>\n",
       "      <th>3</th>\n",
       "      <td>Female</td>\n",
       "      <td>49.0</td>\n",
       "      <td>0</td>\n",
       "      <td>0</td>\n",
       "      <td>Yes</td>\n",
       "      <td>Private</td>\n",
       "      <td>Urban</td>\n",
       "      <td>171.23</td>\n",
       "      <td>34.4</td>\n",
       "      <td>smokes</td>\n",
       "      <td>1</td>\n",
       "    </tr>\n",
       "    <tr>\n",
       "      <th>4</th>\n",
       "      <td>Female</td>\n",
       "      <td>79.0</td>\n",
       "      <td>1</td>\n",
       "      <td>0</td>\n",
       "      <td>Yes</td>\n",
       "      <td>Self-employed</td>\n",
       "      <td>Rural</td>\n",
       "      <td>174.12</td>\n",
       "      <td>24.0</td>\n",
       "      <td>never smoked</td>\n",
       "      <td>1</td>\n",
       "    </tr>\n",
       "  </tbody>\n",
       "</table>\n",
       "</div>"
      ],
      "text/plain": [
       "   gender   age  hypertension  heart_disease ever_married      work_type  \\\n",
       "0    Male  67.0             0              1          Yes        Private   \n",
       "1  Female  61.0             0              0          Yes  Self-employed   \n",
       "2    Male  80.0             0              1          Yes        Private   \n",
       "3  Female  49.0             0              0          Yes        Private   \n",
       "4  Female  79.0             1              0          Yes  Self-employed   \n",
       "\n",
       "  Residence_type  avg_glucose_level   bmi   smoking_status  stroke  \n",
       "0          Urban             228.69  36.6  formerly smoked       1  \n",
       "1          Rural             202.21   NaN     never smoked       1  \n",
       "2          Rural             105.92  32.5     never smoked       1  \n",
       "3          Urban             171.23  34.4           smokes       1  \n",
       "4          Rural             174.12  24.0     never smoked       1  "
      ]
     },
     "execution_count": 16,
     "metadata": {},
     "output_type": "execute_result"
    }
   ],
   "source": [
    "df.head()"
   ]
  },
  {
   "cell_type": "code",
   "execution_count": 17,
   "id": "18776f77",
   "metadata": {
    "execution": {
     "iopub.execute_input": "2025-09-07T18:39:23.092264Z",
     "iopub.status.busy": "2025-09-07T18:39:23.091920Z",
     "iopub.status.idle": "2025-09-07T18:39:23.102011Z",
     "shell.execute_reply": "2025-09-07T18:39:23.100960Z"
    },
    "papermill": {
     "duration": 0.017342,
     "end_time": "2025-09-07T18:39:23.103908",
     "exception": false,
     "start_time": "2025-09-07T18:39:23.086566",
     "status": "completed"
    },
    "tags": []
   },
   "outputs": [
    {
     "data": {
      "text/plain": [
       "gender                 0\n",
       "age                    0\n",
       "hypertension           0\n",
       "heart_disease          0\n",
       "ever_married           0\n",
       "work_type              0\n",
       "Residence_type         0\n",
       "avg_glucose_level      0\n",
       "bmi                  201\n",
       "smoking_status         0\n",
       "stroke                 0\n",
       "dtype: int64"
      ]
     },
     "execution_count": 17,
     "metadata": {},
     "output_type": "execute_result"
    }
   ],
   "source": [
    "df.isnull().sum()"
   ]
  },
  {
   "cell_type": "code",
   "execution_count": 18,
   "id": "de645c69",
   "metadata": {
    "execution": {
     "iopub.execute_input": "2025-09-07T18:39:23.113798Z",
     "iopub.status.busy": "2025-09-07T18:39:23.113474Z",
     "iopub.status.idle": "2025-09-07T18:39:23.123360Z",
     "shell.execute_reply": "2025-09-07T18:39:23.122344Z"
    },
    "papermill": {
     "duration": 0.016911,
     "end_time": "2025-09-07T18:39:23.125176",
     "exception": false,
     "start_time": "2025-09-07T18:39:23.108265",
     "status": "completed"
    },
    "tags": []
   },
   "outputs": [],
   "source": [
    "df = df.dropna()"
   ]
  },
  {
   "cell_type": "code",
   "execution_count": 19,
   "id": "deac9df1",
   "metadata": {
    "execution": {
     "iopub.execute_input": "2025-09-07T18:39:23.135844Z",
     "iopub.status.busy": "2025-09-07T18:39:23.135479Z",
     "iopub.status.idle": "2025-09-07T18:39:23.147567Z",
     "shell.execute_reply": "2025-09-07T18:39:23.146224Z"
    },
    "papermill": {
     "duration": 0.019704,
     "end_time": "2025-09-07T18:39:23.149644",
     "exception": false,
     "start_time": "2025-09-07T18:39:23.129940",
     "status": "completed"
    },
    "tags": []
   },
   "outputs": [],
   "source": [
    "df[\"gender\"] = df[\"gender\"].map({\"Male\": 0 ,\"Female\":1})\n",
    "df[\"ever_married\"] = df[\"ever_married\"].map({\"No\": 0, \"Yes\": 1})\n",
    "df[\"Residence_type\"] = df[\"Residence_type\"].map({\"Rural\": 0, \"Urban\": 1})"
   ]
  },
  {
   "cell_type": "code",
   "execution_count": 20,
   "id": "8b9860af",
   "metadata": {
    "execution": {
     "iopub.execute_input": "2025-09-07T18:39:23.160090Z",
     "iopub.status.busy": "2025-09-07T18:39:23.159140Z",
     "iopub.status.idle": "2025-09-07T18:39:23.204377Z",
     "shell.execute_reply": "2025-09-07T18:39:23.203071Z"
    },
    "papermill": {
     "duration": 0.052248,
     "end_time": "2025-09-07T18:39:23.206037",
     "exception": false,
     "start_time": "2025-09-07T18:39:23.153789",
     "status": "completed"
    },
    "tags": []
   },
   "outputs": [
    {
     "data": {
      "text/html": [
       "<div>\n",
       "<style scoped>\n",
       "    .dataframe tbody tr th:only-of-type {\n",
       "        vertical-align: middle;\n",
       "    }\n",
       "\n",
       "    .dataframe tbody tr th {\n",
       "        vertical-align: top;\n",
       "    }\n",
       "\n",
       "    .dataframe thead th {\n",
       "        text-align: right;\n",
       "    }\n",
       "</style>\n",
       "<table border=\"1\" class=\"dataframe\">\n",
       "  <thead>\n",
       "    <tr style=\"text-align: right;\">\n",
       "      <th></th>\n",
       "      <th>gender</th>\n",
       "      <th>age</th>\n",
       "      <th>hypertension</th>\n",
       "      <th>heart_disease</th>\n",
       "      <th>ever_married</th>\n",
       "      <th>Residence_type</th>\n",
       "      <th>avg_glucose_level</th>\n",
       "      <th>bmi</th>\n",
       "      <th>stroke</th>\n",
       "      <th>smoking_status_formerly smoked</th>\n",
       "      <th>smoking_status_never smoked</th>\n",
       "      <th>smoking_status_smokes</th>\n",
       "      <th>work_type_Never_worked</th>\n",
       "      <th>work_type_Private</th>\n",
       "      <th>work_type_Self-employed</th>\n",
       "      <th>work_type_children</th>\n",
       "    </tr>\n",
       "  </thead>\n",
       "  <tbody>\n",
       "    <tr>\n",
       "      <th>0</th>\n",
       "      <td>0.0</td>\n",
       "      <td>67.0</td>\n",
       "      <td>0.0</td>\n",
       "      <td>1.0</td>\n",
       "      <td>1.0</td>\n",
       "      <td>1.0</td>\n",
       "      <td>228.69</td>\n",
       "      <td>36.6</td>\n",
       "      <td>1.0</td>\n",
       "      <td>1.0</td>\n",
       "      <td>0.0</td>\n",
       "      <td>0.0</td>\n",
       "      <td>0.0</td>\n",
       "      <td>1.0</td>\n",
       "      <td>0.0</td>\n",
       "      <td>0.0</td>\n",
       "    </tr>\n",
       "    <tr>\n",
       "      <th>2</th>\n",
       "      <td>0.0</td>\n",
       "      <td>80.0</td>\n",
       "      <td>0.0</td>\n",
       "      <td>1.0</td>\n",
       "      <td>1.0</td>\n",
       "      <td>0.0</td>\n",
       "      <td>105.92</td>\n",
       "      <td>32.5</td>\n",
       "      <td>1.0</td>\n",
       "      <td>0.0</td>\n",
       "      <td>0.0</td>\n",
       "      <td>1.0</td>\n",
       "      <td>0.0</td>\n",
       "      <td>1.0</td>\n",
       "      <td>0.0</td>\n",
       "      <td>0.0</td>\n",
       "    </tr>\n",
       "    <tr>\n",
       "      <th>3</th>\n",
       "      <td>1.0</td>\n",
       "      <td>49.0</td>\n",
       "      <td>0.0</td>\n",
       "      <td>0.0</td>\n",
       "      <td>1.0</td>\n",
       "      <td>1.0</td>\n",
       "      <td>171.23</td>\n",
       "      <td>34.4</td>\n",
       "      <td>1.0</td>\n",
       "      <td>0.0</td>\n",
       "      <td>1.0</td>\n",
       "      <td>0.0</td>\n",
       "      <td>0.0</td>\n",
       "      <td>0.0</td>\n",
       "      <td>1.0</td>\n",
       "      <td>0.0</td>\n",
       "    </tr>\n",
       "    <tr>\n",
       "      <th>4</th>\n",
       "      <td>1.0</td>\n",
       "      <td>79.0</td>\n",
       "      <td>1.0</td>\n",
       "      <td>0.0</td>\n",
       "      <td>1.0</td>\n",
       "      <td>0.0</td>\n",
       "      <td>174.12</td>\n",
       "      <td>24.0</td>\n",
       "      <td>1.0</td>\n",
       "      <td>1.0</td>\n",
       "      <td>0.0</td>\n",
       "      <td>0.0</td>\n",
       "      <td>0.0</td>\n",
       "      <td>1.0</td>\n",
       "      <td>0.0</td>\n",
       "      <td>0.0</td>\n",
       "    </tr>\n",
       "    <tr>\n",
       "      <th>5</th>\n",
       "      <td>0.0</td>\n",
       "      <td>81.0</td>\n",
       "      <td>0.0</td>\n",
       "      <td>0.0</td>\n",
       "      <td>1.0</td>\n",
       "      <td>1.0</td>\n",
       "      <td>186.21</td>\n",
       "      <td>29.0</td>\n",
       "      <td>1.0</td>\n",
       "      <td>0.0</td>\n",
       "      <td>1.0</td>\n",
       "      <td>0.0</td>\n",
       "      <td>0.0</td>\n",
       "      <td>1.0</td>\n",
       "      <td>0.0</td>\n",
       "      <td>0.0</td>\n",
       "    </tr>\n",
       "  </tbody>\n",
       "</table>\n",
       "</div>"
      ],
      "text/plain": [
       "   gender   age  hypertension  heart_disease  ever_married  Residence_type  \\\n",
       "0     0.0  67.0           0.0            1.0           1.0             1.0   \n",
       "2     0.0  80.0           0.0            1.0           1.0             0.0   \n",
       "3     1.0  49.0           0.0            0.0           1.0             1.0   \n",
       "4     1.0  79.0           1.0            0.0           1.0             0.0   \n",
       "5     0.0  81.0           0.0            0.0           1.0             1.0   \n",
       "\n",
       "   avg_glucose_level   bmi  stroke  smoking_status_formerly smoked  \\\n",
       "0             228.69  36.6     1.0                             1.0   \n",
       "2             105.92  32.5     1.0                             0.0   \n",
       "3             171.23  34.4     1.0                             0.0   \n",
       "4             174.12  24.0     1.0                             1.0   \n",
       "5             186.21  29.0     1.0                             0.0   \n",
       "\n",
       "   smoking_status_never smoked  smoking_status_smokes  work_type_Never_worked  \\\n",
       "0                          0.0                    0.0                     0.0   \n",
       "2                          0.0                    1.0                     0.0   \n",
       "3                          1.0                    0.0                     0.0   \n",
       "4                          0.0                    0.0                     0.0   \n",
       "5                          1.0                    0.0                     0.0   \n",
       "\n",
       "   work_type_Private  work_type_Self-employed  work_type_children  \n",
       "0                1.0                      0.0                 0.0  \n",
       "2                1.0                      0.0                 0.0  \n",
       "3                0.0                      1.0                 0.0  \n",
       "4                1.0                      0.0                 0.0  \n",
       "5                1.0                      0.0                 0.0  "
      ]
     },
     "execution_count": 20,
     "metadata": {},
     "output_type": "execute_result"
    }
   ],
   "source": [
    "encoder = OneHotEncoder(drop=\"first\", sparse_output=False)\n",
    "\n",
    "cat_cols=[\"smoking_status\",\"work_type\"]\n",
    "\n",
    "encoded = encoder.fit_transform(df[cat_cols])\n",
    "\n",
    "encoded_df = pd.DataFrame(encoded,columns=encoder.get_feature_names_out(cat_cols))\n",
    "\n",
    "df = pd.concat([df.drop(cat_cols,axis=1),encoded_df],axis=1)\n",
    "\n",
    "df.head()"
   ]
  },
  {
   "cell_type": "code",
   "execution_count": 21,
   "id": "a79d01a1",
   "metadata": {
    "execution": {
     "iopub.execute_input": "2025-09-07T18:39:23.218068Z",
     "iopub.status.busy": "2025-09-07T18:39:23.217660Z",
     "iopub.status.idle": "2025-09-07T18:39:23.245291Z",
     "shell.execute_reply": "2025-09-07T18:39:23.244389Z"
    },
    "papermill": {
     "duration": 0.035377,
     "end_time": "2025-09-07T18:39:23.247361",
     "exception": false,
     "start_time": "2025-09-07T18:39:23.211984",
     "status": "completed"
    },
    "tags": []
   },
   "outputs": [],
   "source": [
    "scaler = StandardScaler()\n",
    "df[[\"bmi\",\"avg_glucose_level\"]] =scaler.fit_transform(df[[\"bmi\",\"avg_glucose_level\"]])"
   ]
  },
  {
   "cell_type": "code",
   "execution_count": 22,
   "id": "180cce17",
   "metadata": {
    "execution": {
     "iopub.execute_input": "2025-09-07T18:39:23.258081Z",
     "iopub.status.busy": "2025-09-07T18:39:23.257761Z",
     "iopub.status.idle": "2025-09-07T18:39:23.264849Z",
     "shell.execute_reply": "2025-09-07T18:39:23.263847Z"
    },
    "papermill": {
     "duration": 0.014581,
     "end_time": "2025-09-07T18:39:23.266672",
     "exception": false,
     "start_time": "2025-09-07T18:39:23.252091",
     "status": "completed"
    },
    "tags": []
   },
   "outputs": [],
   "source": [
    "x = df.drop(\"stroke\",axis=1)\n",
    "y=df[\"stroke\"]"
   ]
  },
  {
   "cell_type": "code",
   "execution_count": 23,
   "id": "a9a81785",
   "metadata": {
    "execution": {
     "iopub.execute_input": "2025-09-07T18:39:23.278059Z",
     "iopub.status.busy": "2025-09-07T18:39:23.277695Z",
     "iopub.status.idle": "2025-09-07T18:39:23.286361Z",
     "shell.execute_reply": "2025-09-07T18:39:23.285341Z"
    },
    "papermill": {
     "duration": 0.016799,
     "end_time": "2025-09-07T18:39:23.288199",
     "exception": false,
     "start_time": "2025-09-07T18:39:23.271400",
     "status": "completed"
    },
    "tags": []
   },
   "outputs": [],
   "source": [
    "X_train,X_test,y_train,y_test =train_test_split(x,y,test_size=0.2,random_state=42)"
   ]
  },
  {
   "cell_type": "code",
   "execution_count": 24,
   "id": "4f70e8cf",
   "metadata": {
    "execution": {
     "iopub.execute_input": "2025-09-07T18:39:23.299965Z",
     "iopub.status.busy": "2025-09-07T18:39:23.299605Z",
     "iopub.status.idle": "2025-09-07T18:39:23.310151Z",
     "shell.execute_reply": "2025-09-07T18:39:23.309100Z"
    },
    "papermill": {
     "duration": 0.019761,
     "end_time": "2025-09-07T18:39:23.312510",
     "exception": false,
     "start_time": "2025-09-07T18:39:23.292749",
     "status": "completed"
    },
    "tags": []
   },
   "outputs": [],
   "source": [
    "X_train = pd.DataFrame(X_train).dropna()\n",
    "y_train = y_train[X_train.index]\n",
    "\n",
    "X_test = pd.DataFrame(X_test).dropna()\n",
    "y_test = y_test[X_test.index]"
   ]
  },
  {
   "cell_type": "code",
   "execution_count": 25,
   "id": "2168b0c0",
   "metadata": {
    "execution": {
     "iopub.execute_input": "2025-09-07T18:39:23.324852Z",
     "iopub.status.busy": "2025-09-07T18:39:23.323357Z",
     "iopub.status.idle": "2025-09-07T18:39:23.331062Z",
     "shell.execute_reply": "2025-09-07T18:39:23.330013Z"
    },
    "papermill": {
     "duration": 0.015776,
     "end_time": "2025-09-07T18:39:23.333035",
     "exception": false,
     "start_time": "2025-09-07T18:39:23.317259",
     "status": "completed"
    },
    "tags": []
   },
   "outputs": [],
   "source": [
    "lr = LogisticRegression(max_iter=10000, class_weight=\"balanced\")\n",
    "rf = RandomForestClassifier(n_estimators=300,\n",
    "    max_depth=10,\n",
    "    min_samples_split=5,\n",
    "    class_weight=\"balanced\",\n",
    "    random_state=42)\n",
    "\n",
    "dt = DecisionTreeClassifier(max_depth=2, random_state=1)\n",
    "\n",
    "ada = AdaBoostClassifier(estimator=dt,\n",
    "    n_estimators=300,\n",
    "    learning_rate=0.8,\n",
    "    random_state=42)\n",
    "\n",
    "gb = GradientBoostingClassifier(n_estimators=300, learning_rate=0.1, max_depth=3, random_state=42)\n",
    "\n",
    "models = [\n",
    "    (\"AdaBoostClassifier\", ada),\n",
    "    (\"Logistic Regression\", lr),\n",
    "    (\"Decision Tree\", dt),\n",
    "    (\"Random Forest\", rf),\n",
    "     (\"Gradient Boosting\", gb)\n",
    "]"
   ]
  },
  {
   "cell_type": "code",
   "execution_count": 26,
   "id": "bde9a54c",
   "metadata": {
    "execution": {
     "iopub.execute_input": "2025-09-07T18:39:23.343383Z",
     "iopub.status.busy": "2025-09-07T18:39:23.343010Z",
     "iopub.status.idle": "2025-09-07T18:39:29.089879Z",
     "shell.execute_reply": "2025-09-07T18:39:29.088828Z"
    },
    "papermill": {
     "duration": 5.754457,
     "end_time": "2025-09-07T18:39:29.091991",
     "exception": false,
     "start_time": "2025-09-07T18:39:23.337534",
     "status": "completed"
    },
    "tags": []
   },
   "outputs": [
    {
     "name": "stdout",
     "output_type": "stream",
     "text": [
      "AdaBoostClassifier : 0.947\n",
      "Logistic Regression : 0.761\n",
      "Decision Tree : 0.947\n",
      "Random Forest : 0.904\n",
      "Gradient Boosting : 0.948\n"
     ]
    }
   ],
   "source": [
    "for clf_name, clf in models:\n",
    "    clf.fit(X_train, y_train)\n",
    "    y_pred = clf.predict(X_test)\n",
    "    print(\"{:s} : {:.3f}\".format(clf_name, (accuracy_score(y_test, y_pred))))"
   ]
  }
 ],
 "metadata": {
  "kaggle": {
   "accelerator": "none",
   "dataSources": [
    {
     "datasetId": 1120859,
     "sourceId": 1882037,
     "sourceType": "datasetVersion"
    }
   ],
   "dockerImageVersionId": 31089,
   "isGpuEnabled": false,
   "isInternetEnabled": true,
   "language": "python",
   "sourceType": "notebook"
  },
  "kernelspec": {
   "display_name": "Python 3",
   "language": "python",
   "name": "python3"
  },
  "language_info": {
   "codemirror_mode": {
    "name": "ipython",
    "version": 3
   },
   "file_extension": ".py",
   "mimetype": "text/x-python",
   "name": "python",
   "nbconvert_exporter": "python",
   "pygments_lexer": "ipython3",
   "version": "3.9.13"
  },
  "papermill": {
   "default_parameters": {},
   "duration": 17.896977,
   "end_time": "2025-09-07T18:39:29.918626",
   "environment_variables": {},
   "exception": null,
   "input_path": "__notebook__.ipynb",
   "output_path": "__notebook__.ipynb",
   "parameters": {},
   "start_time": "2025-09-07T18:39:12.021649",
   "version": "2.6.0"
  }
 },
 "nbformat": 4,
 "nbformat_minor": 5
}
